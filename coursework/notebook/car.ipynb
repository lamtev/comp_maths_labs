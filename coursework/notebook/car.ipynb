{
 "cells": [
  {
   "cell_type": "markdown",
   "metadata": {},
   "source": [
    "# Курсовая работа\n",
    "## Задание K-3-07. Расчёт движения автомобиля"
   ]
  },
  {
   "cell_type": "markdown",
   "metadata": {},
   "source": [
    "### Исходные данные\n",
    "Автомобиль массы $M$, поддерживаемый пружиной с демпфером, перемещается с постоянной\n",
    "горизонтальной скоростью. В момент времени $t = 0$ вертикальная скорость отсутствует. В\n",
    "дальнейшем вертикальное смещение дороги от основного уровня описывается функцией\n",
    "$x_0(t) = 2 (1 - cos7t)$ .Предположим, что пружина - линейная с коэффициентом упругости $K$, а\n",
    "коэффициент демпфирования $r$ является нелинейной функцией относительно двух концов\n",
    "демпфера:\n",
    "\n",
    "\\begin{equation}\n",
    "    r = r_0 \\Big(1+ c \\Big| \\frac{dx}{dt} - \\frac{dx_0}{dt} \\Big| \\Big)\n",
    "\\end{equation}\n",
    "\n",
    "Легко показать, что смещение $x(t)$ центра тяжести автомобиля описывается уравнением:\n",
    "\n",
    "\\begin{equation}\n",
    "   M\\frac{d^2x}{dt^2} = -k (x - x_0(t)) - r \\Big( \\frac{dx}{dt} - \\frac{dx_0(t)}{dt} \\Big), \\text{    } 0 \\le t \\le t_{max}\n",
    "\\end{equation}\n",
    "\n",
    "С начальными условиями $x(0) = 0$, $x'_t(0) = 0$, $t_{max} = 4$ секунды\n",
    "\n",
    "Значения $c^1$, $c^2$ и $c^3$ являются решением системы уравнений:\n",
    "\n",
    "\\begin{equation}\n",
    "    \\begin{pmatrix}\n",
    "        46 & 42 & 24 \\\\\n",
    "        42 & 49 & 18 \\\\\n",
    "        24 & 18 & 16 \\\\\n",
    "    \\end{pmatrix}\n",
    "    \\cdot\n",
    "    \\begin{pmatrix}\n",
    "        c^1 \\\\\n",
    "        c^2 \\\\\n",
    "        c^3 \\\\\n",
    "    \\end{pmatrix}\n",
    "    =\n",
    "    \\begin{pmatrix}\n",
    "        282 \\\\\n",
    "        229 \\\\\n",
    "        178 \\\\\n",
    "    \\end{pmatrix}\n",
    "\\end{equation}\n",
    "\n",
    "$K$ равно:\n",
    "\n",
    "\\begin{equation}\n",
    "    K = 1235.802 \\cdot \\int_0^{0.5} \\sqrt{\\frac{1 - 0.25 x^2}{1 - x^2}} dx\n",
    "\\end{equation}\n",
    "\n",
    "$M = 25.0449 \\cdot x^*$, где $x^*$ - наименьший ненулевой корень уравнения:\n",
    "\n",
    "\\begin{equation}\n",
    "    2^x - 2x - 1 = 0\n",
    "\\end{equation}\n",
    "\n",
    "$r_0^1 = 80$, $r_0^2 = 160$ и $r_0^3 = 240$\n",
    "### Задания\n",
    "1) Исследовать качество трёх демпферов: $(r_0^1, c^1)$, $(r_0^2, c^2)$, $(r_0^3, c^3)$.\n",
    "\n",
    "2) Оценить общую погрешность результатов.\n",
    "\n",
    "3) Варьируя значение $K$ на 5% и значение $M$ на 10%, оценить влияние на точность погрешности исходных данных."
   ]
  },
  {
   "cell_type": "markdown",
   "metadata": {},
   "source": [
    "### Выполнение работы\n",
    "\n",
    "Для начала вычислим значения $c^1$, $c^2$, $c^3$, $M$ и $K$:"
   ]
  },
  {
   "cell_type": "code",
   "execution_count": 24,
   "metadata": {},
   "outputs": [
    {
     "name": "stdout",
     "output_type": "stream",
     "text": [
      "c0 = -2.0273637840981118e-16\n",
      "c1 = 1.0000000000000002\n",
      "c2 = 10.0\n"
     ]
    }
   ],
   "source": [
    "from numpy.linalg import solve\n",
    "\n",
    "A = [[46, 42, 24], [42, 49, 18], [24, 18, 16]]\n",
    "b = [282, 229, 178]\n",
    "x = solve(A, b)\n",
    "i = 0\n",
    "for c in x:\n",
    "    print('c{i} = {c}'.format(i=i, c=c))\n",
    "    i += 1"
   ]
  },
  {
   "cell_type": "code",
   "execution_count": 14,
   "metadata": {},
   "outputs": [
    {
     "name": "stdout",
     "output_type": "stream",
     "text": [
      "M = 66.61595721485934\n"
     ]
    }
   ],
   "source": [
    "from scipy.optimize import brentq\n",
    "\n",
    "M = brentq(lambda x: pow(2, x) - 2 * x - 1, 1, 3)\n",
    "M *= 25.0449\n",
    "print('M = {M}'.format(M=M))"
   ]
  },
  {
   "cell_type": "code",
   "execution_count": 6,
   "metadata": {},
   "outputs": [
    {
     "name": "stdout",
     "output_type": "stream",
     "text": [
      "K = 639.9995308637812\n",
      "error = 5.7496444811892876e-15\n"
     ]
    }
   ],
   "source": [
    "from scipy.integrate import quad\n",
    "\n",
    "from math import sqrt\n",
    "\n",
    "K, err = quad(lambda x: sqrt((1 - 0.25 * x * x) / (1 - x * x)), 0, 0.5)\n",
    "K *= 1235.802\n",
    "print('K = {K}'.format(K=K))\n",
    "print('error = {err}'.format(err=err))"
   ]
  },
  {
   "cell_type": "markdown",
   "metadata": {
    "collapsed": true
   },
   "source": [
    "Теперь перейдём к решению дифференциального уравнения. Оно второго порядка.\n",
    "\n",
    "Для начала приведем его к системе из двух уравнений первого порядка при помощи подстановок $y_1(t) = x(t)$ и $y_2(t) = \\frac{dx}{dt}$:\n",
    "\n",
    "\\begin{equation}\n",
    "    \\begin{cases}\n",
    "        y_1'(t) = y_2(t)\n",
    "        \\\\\n",
    "        y_2'(t) = -\\frac{K}{M} \\Big(y_1(t) - 2(1 - cos7t) \\Big) - \\frac{r_0}{M} \\Big(1 + c \\cdot \\Big| y_2(t) - 14sin7t \\Big| \\Big) \\Big( y_2(t) - 14sin7t \\Big)\n",
    "    \\end{cases}\n",
    "\\end{equation}"
   ]
  },
  {
   "cell_type": "code",
   "execution_count": 17,
   "metadata": {},
   "outputs": [],
   "source": [
    "from numpy import array\n",
    "\n",
    "from math import sin, cos\n",
    "\n",
    "def fun(y, t, r, c, k, m):\n",
    "    return [y[2],\\\n",
    "            -k/m * (y[1] - 2 * (1 - cos(7 * t))) - r/m * (1 + c * abs(y[2] - 14 * sin(7 * t)) * (y[2] - 14 * sin(7 * t)))]"
   ]
  },
  {
   "cell_type": "code",
   "execution_count": null,
   "metadata": {
    "collapsed": true
   },
   "outputs": [],
   "source": []
  }
 ],
 "metadata": {
  "kernelspec": {
   "display_name": "Python 3",
   "language": "python",
   "name": "python3"
  },
  "language_info": {
   "codemirror_mode": {
    "name": "ipython",
    "version": 3
   },
   "file_extension": ".py",
   "mimetype": "text/x-python",
   "name": "python",
   "nbconvert_exporter": "python",
   "pygments_lexer": "ipython3",
   "version": "3.6.0"
  }
 },
 "nbformat": 4,
 "nbformat_minor": 2
}
